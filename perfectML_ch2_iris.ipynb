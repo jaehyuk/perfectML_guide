{
  "nbformat": 4,
  "nbformat_minor": 0,
  "metadata": {
    "colab": {
      "name": "perfectML_ch2_iris.ipynb",
      "version": "0.3.2",
      "provenance": [],
      "collapsed_sections": [],
      "include_colab_link": true
    },
    "kernelspec": {
      "name": "python3",
      "display_name": "Python 3"
    }
  },
  "cells": [
    {
      "cell_type": "markdown",
      "metadata": {
        "id": "view-in-github",
        "colab_type": "text"
      },
      "source": [
        "<a href=\"https://colab.research.google.com/github/jaehyuk/perfectML_guide/blob/master/perfectML_ch2_iris.ipynb\" target=\"_parent\"><img src=\"https://colab.research.google.com/assets/colab-badge.svg\" alt=\"Open In Colab\"/></a>"
      ]
    },
    {
      "cell_type": "code",
      "metadata": {
        "id": "e6ofdwtNYppb",
        "colab_type": "code",
        "colab": {
          "base_uri": "https://localhost:8080/",
          "height": 34
        },
        "outputId": "3c36e2fc-8172-410e-c91f-47a6e34c908d"
      },
      "source": [
        "lambda_square = lambda x : x**2\n",
        "print('3의 제곱은:', lambda_square(3))"
      ],
      "execution_count": 56,
      "outputs": [
        {
          "output_type": "stream",
          "text": [
            "3의 제곱은: 9\n"
          ],
          "name": "stdout"
        }
      ]
    },
    {
      "cell_type": "code",
      "metadata": {
        "id": "xUVuNPpEYzZE",
        "colab_type": "code",
        "colab": {
          "base_uri": "https://localhost:8080/",
          "height": 34
        },
        "outputId": "fb21c0d4-7c3c-4777-ad22-bcfb5621246a"
      },
      "source": [
        "a = [1, 2, 3]\n",
        "squares = map(lambda x: x**2, a)\n",
        "list(squares)"
      ],
      "execution_count": 57,
      "outputs": [
        {
          "output_type": "execute_result",
          "data": {
            "text/plain": [
              "[1, 4, 9]"
            ]
          },
          "metadata": {
            "tags": []
          },
          "execution_count": 57
        }
      ]
    },
    {
      "cell_type": "markdown",
      "metadata": {
        "id": "iOhl31VAac4x",
        "colab_type": "text"
      },
      "source": [
        "### Iris Dataset ML model making"
      ]
    },
    {
      "cell_type": "code",
      "metadata": {
        "id": "00x60hKPZCKD",
        "colab_type": "code",
        "colab": {}
      },
      "source": [
        "from sklearn.datasets import load_iris\n",
        "from sklearn.tree import DecisionTreeClassifier\n",
        "from sklearn.model_selection import train_test_split\n",
        "from sklearn.metrics import accuracy_score\n",
        "\n",
        "import pandas as pd\n"
      ],
      "execution_count": 0,
      "outputs": []
    },
    {
      "cell_type": "code",
      "metadata": {
        "id": "7YySuY4eb-X9",
        "colab_type": "code",
        "colab": {
          "base_uri": "https://localhost:8080/",
          "height": 122
        },
        "outputId": "8e7ff28e-efb7-490c-df57-c8f437791a12"
      },
      "source": [
        "iris = load_iris()\n",
        "iris_data = iris.data\n",
        "iris_label = iris.target\n",
        "\n",
        "print('iris target value: ', iris.target)\n",
        "print('iris target names: ', iris.target_names)"
      ],
      "execution_count": 59,
      "outputs": [
        {
          "output_type": "stream",
          "text": [
            "iris target value:  [0 0 0 0 0 0 0 0 0 0 0 0 0 0 0 0 0 0 0 0 0 0 0 0 0 0 0 0 0 0 0 0 0 0 0 0 0\n",
            " 0 0 0 0 0 0 0 0 0 0 0 0 0 1 1 1 1 1 1 1 1 1 1 1 1 1 1 1 1 1 1 1 1 1 1 1 1\n",
            " 1 1 1 1 1 1 1 1 1 1 1 1 1 1 1 1 1 1 1 1 1 1 1 1 1 1 2 2 2 2 2 2 2 2 2 2 2\n",
            " 2 2 2 2 2 2 2 2 2 2 2 2 2 2 2 2 2 2 2 2 2 2 2 2 2 2 2 2 2 2 2 2 2 2 2 2 2\n",
            " 2 2]\n",
            "iris target names:  ['setosa' 'versicolor' 'virginica']\n"
          ],
          "name": "stdout"
        }
      ]
    },
    {
      "cell_type": "code",
      "metadata": {
        "id": "WnH7EJHggewR",
        "colab_type": "code",
        "colab": {
          "base_uri": "https://localhost:8080/",
          "height": 34
        },
        "outputId": "9b929711-8a11-4519-906c-a90be620f2d9"
      },
      "source": [
        "keys = iris.keys()\n",
        "print(keys)"
      ],
      "execution_count": 60,
      "outputs": [
        {
          "output_type": "stream",
          "text": [
            "dict_keys(['data', 'target', 'target_names', 'DESCR', 'feature_names', 'filename'])\n"
          ],
          "name": "stdout"
        }
      ]
    },
    {
      "cell_type": "code",
      "metadata": {
        "id": "1cpPYJNkcWlE",
        "colab_type": "code",
        "colab": {
          "base_uri": "https://localhost:8080/",
          "height": 195
        },
        "outputId": "7614c893-5b64-4943-d903-55312d2b8eee"
      },
      "source": [
        "iris_df = pd.DataFrame(data=iris_data, columns=iris.feature_names)\n",
        "iris_df['label'] = iris.target\n",
        "iris_df.head()"
      ],
      "execution_count": 61,
      "outputs": [
        {
          "output_type": "execute_result",
          "data": {
            "text/html": [
              "<div>\n",
              "<style scoped>\n",
              "    .dataframe tbody tr th:only-of-type {\n",
              "        vertical-align: middle;\n",
              "    }\n",
              "\n",
              "    .dataframe tbody tr th {\n",
              "        vertical-align: top;\n",
              "    }\n",
              "\n",
              "    .dataframe thead th {\n",
              "        text-align: right;\n",
              "    }\n",
              "</style>\n",
              "<table border=\"1\" class=\"dataframe\">\n",
              "  <thead>\n",
              "    <tr style=\"text-align: right;\">\n",
              "      <th></th>\n",
              "      <th>sepal length (cm)</th>\n",
              "      <th>sepal width (cm)</th>\n",
              "      <th>petal length (cm)</th>\n",
              "      <th>petal width (cm)</th>\n",
              "      <th>label</th>\n",
              "    </tr>\n",
              "  </thead>\n",
              "  <tbody>\n",
              "    <tr>\n",
              "      <th>0</th>\n",
              "      <td>5.1</td>\n",
              "      <td>3.5</td>\n",
              "      <td>1.4</td>\n",
              "      <td>0.2</td>\n",
              "      <td>0</td>\n",
              "    </tr>\n",
              "    <tr>\n",
              "      <th>1</th>\n",
              "      <td>4.9</td>\n",
              "      <td>3.0</td>\n",
              "      <td>1.4</td>\n",
              "      <td>0.2</td>\n",
              "      <td>0</td>\n",
              "    </tr>\n",
              "    <tr>\n",
              "      <th>2</th>\n",
              "      <td>4.7</td>\n",
              "      <td>3.2</td>\n",
              "      <td>1.3</td>\n",
              "      <td>0.2</td>\n",
              "      <td>0</td>\n",
              "    </tr>\n",
              "    <tr>\n",
              "      <th>3</th>\n",
              "      <td>4.6</td>\n",
              "      <td>3.1</td>\n",
              "      <td>1.5</td>\n",
              "      <td>0.2</td>\n",
              "      <td>0</td>\n",
              "    </tr>\n",
              "    <tr>\n",
              "      <th>4</th>\n",
              "      <td>5.0</td>\n",
              "      <td>3.6</td>\n",
              "      <td>1.4</td>\n",
              "      <td>0.2</td>\n",
              "      <td>0</td>\n",
              "    </tr>\n",
              "  </tbody>\n",
              "</table>\n",
              "</div>"
            ],
            "text/plain": [
              "   sepal length (cm)  sepal width (cm)  ...  petal width (cm)  label\n",
              "0                5.1               3.5  ...               0.2      0\n",
              "1                4.9               3.0  ...               0.2      0\n",
              "2                4.7               3.2  ...               0.2      0\n",
              "3                4.6               3.1  ...               0.2      0\n",
              "4                5.0               3.6  ...               0.2      0\n",
              "\n",
              "[5 rows x 5 columns]"
            ]
          },
          "metadata": {
            "tags": []
          },
          "execution_count": 61
        }
      ]
    },
    {
      "cell_type": "code",
      "metadata": {
        "id": "WxQln935crQ6",
        "colab_type": "code",
        "colab": {
          "base_uri": "https://localhost:8080/",
          "height": 195
        },
        "outputId": "7fb2f85e-e88e-4ab0-de6d-3042cf958d55"
      },
      "source": [
        "iris_df.describe().T"
      ],
      "execution_count": 62,
      "outputs": [
        {
          "output_type": "execute_result",
          "data": {
            "text/html": [
              "<div>\n",
              "<style scoped>\n",
              "    .dataframe tbody tr th:only-of-type {\n",
              "        vertical-align: middle;\n",
              "    }\n",
              "\n",
              "    .dataframe tbody tr th {\n",
              "        vertical-align: top;\n",
              "    }\n",
              "\n",
              "    .dataframe thead th {\n",
              "        text-align: right;\n",
              "    }\n",
              "</style>\n",
              "<table border=\"1\" class=\"dataframe\">\n",
              "  <thead>\n",
              "    <tr style=\"text-align: right;\">\n",
              "      <th></th>\n",
              "      <th>count</th>\n",
              "      <th>mean</th>\n",
              "      <th>std</th>\n",
              "      <th>min</th>\n",
              "      <th>25%</th>\n",
              "      <th>50%</th>\n",
              "      <th>75%</th>\n",
              "      <th>max</th>\n",
              "    </tr>\n",
              "  </thead>\n",
              "  <tbody>\n",
              "    <tr>\n",
              "      <th>sepal length (cm)</th>\n",
              "      <td>150.0</td>\n",
              "      <td>5.843333</td>\n",
              "      <td>0.828066</td>\n",
              "      <td>4.3</td>\n",
              "      <td>5.1</td>\n",
              "      <td>5.80</td>\n",
              "      <td>6.4</td>\n",
              "      <td>7.9</td>\n",
              "    </tr>\n",
              "    <tr>\n",
              "      <th>sepal width (cm)</th>\n",
              "      <td>150.0</td>\n",
              "      <td>3.057333</td>\n",
              "      <td>0.435866</td>\n",
              "      <td>2.0</td>\n",
              "      <td>2.8</td>\n",
              "      <td>3.00</td>\n",
              "      <td>3.3</td>\n",
              "      <td>4.4</td>\n",
              "    </tr>\n",
              "    <tr>\n",
              "      <th>petal length (cm)</th>\n",
              "      <td>150.0</td>\n",
              "      <td>3.758000</td>\n",
              "      <td>1.765298</td>\n",
              "      <td>1.0</td>\n",
              "      <td>1.6</td>\n",
              "      <td>4.35</td>\n",
              "      <td>5.1</td>\n",
              "      <td>6.9</td>\n",
              "    </tr>\n",
              "    <tr>\n",
              "      <th>petal width (cm)</th>\n",
              "      <td>150.0</td>\n",
              "      <td>1.199333</td>\n",
              "      <td>0.762238</td>\n",
              "      <td>0.1</td>\n",
              "      <td>0.3</td>\n",
              "      <td>1.30</td>\n",
              "      <td>1.8</td>\n",
              "      <td>2.5</td>\n",
              "    </tr>\n",
              "    <tr>\n",
              "      <th>label</th>\n",
              "      <td>150.0</td>\n",
              "      <td>1.000000</td>\n",
              "      <td>0.819232</td>\n",
              "      <td>0.0</td>\n",
              "      <td>0.0</td>\n",
              "      <td>1.00</td>\n",
              "      <td>2.0</td>\n",
              "      <td>2.0</td>\n",
              "    </tr>\n",
              "  </tbody>\n",
              "</table>\n",
              "</div>"
            ],
            "text/plain": [
              "                   count      mean       std  min  25%   50%  75%  max\n",
              "sepal length (cm)  150.0  5.843333  0.828066  4.3  5.1  5.80  6.4  7.9\n",
              "sepal width (cm)   150.0  3.057333  0.435866  2.0  2.8  3.00  3.3  4.4\n",
              "petal length (cm)  150.0  3.758000  1.765298  1.0  1.6  4.35  5.1  6.9\n",
              "petal width (cm)   150.0  1.199333  0.762238  0.1  0.3  1.30  1.8  2.5\n",
              "label              150.0  1.000000  0.819232  0.0  0.0  1.00  2.0  2.0"
            ]
          },
          "metadata": {
            "tags": []
          },
          "execution_count": 62
        }
      ]
    },
    {
      "cell_type": "code",
      "metadata": {
        "id": "OyfYGBOlctMK",
        "colab_type": "code",
        "colab": {}
      },
      "source": [
        ""
      ],
      "execution_count": 0,
      "outputs": []
    },
    {
      "cell_type": "code",
      "metadata": {
        "id": "nhR8apHjc8bC",
        "colab_type": "code",
        "colab": {}
      },
      "source": [
        "X_train, X_test, y_train, y_test = train_test_split(iris_data, iris_label, test_size=0.2, random_state=2019)"
      ],
      "execution_count": 0,
      "outputs": []
    },
    {
      "cell_type": "code",
      "metadata": {
        "id": "ibk68hi3dFox",
        "colab_type": "code",
        "colab": {}
      },
      "source": [
        "# Decision Tree classifier\n",
        "clf = DecisionTreeClassifier(random_state=2019)"
      ],
      "execution_count": 0,
      "outputs": []
    },
    {
      "cell_type": "code",
      "metadata": {
        "id": "Mm3gk2T4dVhg",
        "colab_type": "code",
        "colab": {
          "base_uri": "https://localhost:8080/",
          "height": 122
        },
        "outputId": "fb568f49-ac4c-46a0-dc69-c93e3f5689f5"
      },
      "source": [
        "clf.fit(X_train, y_train)"
      ],
      "execution_count": 65,
      "outputs": [
        {
          "output_type": "execute_result",
          "data": {
            "text/plain": [
              "DecisionTreeClassifier(class_weight=None, criterion='gini', max_depth=None,\n",
              "                       max_features=None, max_leaf_nodes=None,\n",
              "                       min_impurity_decrease=0.0, min_impurity_split=None,\n",
              "                       min_samples_leaf=1, min_samples_split=2,\n",
              "                       min_weight_fraction_leaf=0.0, presort=False,\n",
              "                       random_state=2019, splitter='best')"
            ]
          },
          "metadata": {
            "tags": []
          },
          "execution_count": 65
        }
      ]
    },
    {
      "cell_type": "code",
      "metadata": {
        "id": "3UI4Y5VCdniw",
        "colab_type": "code",
        "colab": {}
      },
      "source": [
        "# prediction with test dataset\n",
        "pred = clf.predict(X_test)"
      ],
      "execution_count": 0,
      "outputs": []
    },
    {
      "cell_type": "code",
      "metadata": {
        "id": "pYtnGaCTdzjA",
        "colab_type": "code",
        "colab": {
          "base_uri": "https://localhost:8080/",
          "height": 34
        },
        "outputId": "253740bd-bfd9-4639-db30-0743d230df49"
      },
      "source": [
        "\n",
        "print('prediction accuracy: [{0:4f}'.format(accuracy_score(y_test, pred)))"
      ],
      "execution_count": 67,
      "outputs": [
        {
          "output_type": "stream",
          "text": [
            "prediction accuracy: [0.966667\n"
          ],
          "name": "stdout"
        }
      ]
    },
    {
      "cell_type": "markdown",
      "metadata": {
        "id": "n7kFaqAEikUA",
        "colab_type": "text"
      },
      "source": [
        "#### Simple Iris Model\n"
      ]
    },
    {
      "cell_type": "code",
      "metadata": {
        "id": "-eh9EvBvibaC",
        "colab_type": "code",
        "colab": {
          "base_uri": "https://localhost:8080/",
          "height": 34
        },
        "outputId": "f937b05a-c8a3-405b-b0cb-17b6e9f235fe"
      },
      "source": [
        "from sklearn.datasets import load_iris\n",
        "from sklearn.tree import DecisionTreeClassifier\n",
        "from sklearn.metrics import accuracy_score\n",
        "from sklearn.model_selection import train_test_split\n",
        "\n",
        "iris = load_iris()\n",
        "clf = DecisionTreeClassifier()\n",
        "train_data = iris.data\n",
        "train_label = iris.target\n",
        "X_train, X_test, y_train, y_test = train_test_split(train_data, train_label, \n",
        "                                                     test_size=0.2,\n",
        "                                                     random_state=2019)\n",
        "clf.fit(X_train, y_train)\n",
        "pred = clf.predict(X_test)\n",
        "print('prediction accuracy: ', accuracy_score(y_test, pred))"
      ],
      "execution_count": 68,
      "outputs": [
        {
          "output_type": "stream",
          "text": [
            "prediction accuracy:  0.9666666666666667\n"
          ],
          "name": "stdout"
        }
      ]
    },
    {
      "cell_type": "markdown",
      "metadata": {
        "id": "EAZJJ3XuifYh",
        "colab_type": "text"
      },
      "source": [
        "#### K-Fold cross validation"
      ]
    },
    {
      "cell_type": "code",
      "metadata": {
        "id": "lOqyEUbzeBBG",
        "colab_type": "code",
        "colab": {}
      },
      "source": [
        "from sklearn.tree import DecisionTreeClassifier\n",
        "from sklearn.metrics import accuracy_score\n",
        "from sklearn.model_selection import KFold\n",
        "import numpy as np\n",
        "\n",
        "iris = load_iris()\n",
        "iris_data = iris.data\n",
        "iris_label = iris.target\n",
        "clf = DecisionTreeClassifier(random_state=2019)\n",
        "\n"
      ],
      "execution_count": 0,
      "outputs": []
    },
    {
      "cell_type": "markdown",
      "metadata": {
        "id": "d9rwsizxjC8j",
        "colab_type": "text"
      },
      "source": [
        "#### KFold object (5 folds) and accuracy for each fold"
      ]
    },
    {
      "cell_type": "code",
      "metadata": {
        "id": "v-qmSTJ_i7t_",
        "colab_type": "code",
        "colab": {
          "base_uri": "https://localhost:8080/",
          "height": 34
        },
        "outputId": "7df89a69-b597-48c9-df3c-f629d25414cc"
      },
      "source": [
        "kfold = KFold(n_splits=5)\n",
        "cv_accuracy = []\n",
        "print('Iris data size:', iris_data.shape[0])\n"
      ],
      "execution_count": 70,
      "outputs": [
        {
          "output_type": "stream",
          "text": [
            "Iris data size: 150\n"
          ],
          "name": "stdout"
        }
      ]
    },
    {
      "cell_type": "code",
      "metadata": {
        "id": "NQ8JMclAjdtf",
        "colab_type": "code",
        "colab": {
          "base_uri": "https://localhost:8080/",
          "height": 633
        },
        "outputId": "ae1c7515-6270-4a77-b107-cac0986a410a"
      },
      "source": [
        "n_iter = 0\n",
        "\n",
        "for train_index, test_index in kfold.split(features):\n",
        "    # train, validation test data extraction\n",
        "    X_train, X_test = iris_data[train_index], iris_data[test_index]\n",
        "    y_train, y_test = iris_label[train_index], iris_label[test_index]\n",
        "    \n",
        "    # learning/prediction\n",
        "    clf.fit(X_train, y_train)\n",
        "    pred = clf.predict(X_test)\n",
        "    n_iter += 1\n",
        "    \n",
        "    # accuracy measure\n",
        "    accuracy = np.round(accuracy_score(y_test, pred), 4)\n",
        "    train_size = X_train.shape[0]\n",
        "    test_size = X_test.shape[0]\n",
        "    print('\\n#{0} cross validation accuracy: {1}, size of train data: {2}, size of validation data: {3}'.format(n_iter, accuracy, train_size, test_size))\n",
        "    print('\\n#{0} validation data index: {1}'.format(n_iter, test_index))\n",
        "    cv_accuracy.append(accuracy)\n",
        "    \n",
        "    # average accuracy by each iteration\n",
        "    print('\\n## average validation accuracy', np.mean(cv_accuracy))\n",
        "    \n",
        "    "
      ],
      "execution_count": 71,
      "outputs": [
        {
          "output_type": "stream",
          "text": [
            "\n",
            "#1 cross validation accuracy: 1.0, size of train data: 120, size of validation data: 30\n",
            "\n",
            "#1 validation data index: [ 0  1  2  3  4  5  6  7  8  9 10 11 12 13 14 15 16 17 18 19 20 21 22 23\n",
            " 24 25 26 27 28 29]\n",
            "\n",
            "## average validation accuracy 1.0\n",
            "\n",
            "#2 cross validation accuracy: 1.0, size of train data: 120, size of validation data: 30\n",
            "\n",
            "#2 validation data index: [30 31 32 33 34 35 36 37 38 39 40 41 42 43 44 45 46 47 48 49 50 51 52 53\n",
            " 54 55 56 57 58 59]\n",
            "\n",
            "## average validation accuracy 1.0\n",
            "\n",
            "#3 cross validation accuracy: 0.8667, size of train data: 120, size of validation data: 30\n",
            "\n",
            "#3 validation data index: [60 61 62 63 64 65 66 67 68 69 70 71 72 73 74 75 76 77 78 79 80 81 82 83\n",
            " 84 85 86 87 88 89]\n",
            "\n",
            "## average validation accuracy 0.9555666666666666\n",
            "\n",
            "#4 cross validation accuracy: 0.9333, size of train data: 120, size of validation data: 30\n",
            "\n",
            "#4 validation data index: [ 90  91  92  93  94  95  96  97  98  99 100 101 102 103 104 105 106 107\n",
            " 108 109 110 111 112 113 114 115 116 117 118 119]\n",
            "\n",
            "## average validation accuracy 0.95\n",
            "\n",
            "#5 cross validation accuracy: 0.7333, size of train data: 120, size of validation data: 30\n",
            "\n",
            "#5 validation data index: [120 121 122 123 124 125 126 127 128 129 130 131 132 133 134 135 136 137\n",
            " 138 139 140 141 142 143 144 145 146 147 148 149]\n",
            "\n",
            "## average validation accuracy 0.9066599999999999\n"
          ],
          "name": "stdout"
        }
      ]
    },
    {
      "cell_type": "markdown",
      "metadata": {
        "id": "QDRrTuJmmE7K",
        "colab_type": "text"
      },
      "source": [
        "#### Stratified KFold"
      ]
    },
    {
      "cell_type": "code",
      "metadata": {
        "id": "4QhzvQgllgqY",
        "colab_type": "code",
        "colab": {
          "base_uri": "https://localhost:8080/",
          "height": 738
        },
        "outputId": "369bc66e-a51f-4b10-b92b-619f227b5bfb"
      },
      "source": [
        "from sklearn.model_selection import StratifiedKFold\n",
        "\n",
        "features = iris.data\n",
        "target = iris.target\n",
        "print(iris_df['label'].value_counts())\n",
        "\n",
        "\n",
        "skf = StratifiedKFold(n_splits=3)\n",
        "n_iter=0\n",
        "cv_accuracy = []\n",
        "\n",
        "for train_index, test_index in skf.split(features, target):\n",
        "    n_iter += 1\n",
        "    \n",
        "    X_train, X_test = features[train_index], features[test_index]\n",
        "    y_train, y_test = target[train_index], target[test_index]\n",
        "    \n",
        "    clf.fit(X_train, y_train)\n",
        "    pred = clf.predict(X_test)\n",
        "    \n",
        "    accuracy = np.round(accuracy_score(y_test, pred), 4)\n",
        "    print('## cross validation: {0}'.format(n_iter))\n",
        "    print('data distribution of training label: \\n', label_train.value_counts())\n",
        "    print('data distribution of test label: \\n', label_test.value_counts())\n",
        "    \n",
        "    cv_accuracy.append(accuracy)\n",
        "\n",
        "# precision (each CV, average)\n",
        "print('\\n##교차 검증별 정확도:', np.round(cv_accuracy, 4))\n",
        "print('\\n##평균 검증 정확도:', np.mean(cv_accuracy))"
      ],
      "execution_count": 72,
      "outputs": [
        {
          "output_type": "stream",
          "text": [
            "2    50\n",
            "1    50\n",
            "0    50\n",
            "Name: label, dtype: int64\n",
            "## cross validation: 1\n",
            "data distribution of training label: \n",
            " 2    34\n",
            "1    34\n",
            "0    34\n",
            "Name: label, dtype: int64\n",
            "data distribution of test label: \n",
            " 2    16\n",
            "1    16\n",
            "0    16\n",
            "Name: label, dtype: int64\n",
            "## cross validation: 2\n",
            "data distribution of training label: \n",
            " 2    34\n",
            "1    34\n",
            "0    34\n",
            "Name: label, dtype: int64\n",
            "data distribution of test label: \n",
            " 2    16\n",
            "1    16\n",
            "0    16\n",
            "Name: label, dtype: int64\n",
            "## cross validation: 3\n",
            "data distribution of training label: \n",
            " 2    34\n",
            "1    34\n",
            "0    34\n",
            "Name: label, dtype: int64\n",
            "data distribution of test label: \n",
            " 2    16\n",
            "1    16\n",
            "0    16\n",
            "Name: label, dtype: int64\n",
            "\n",
            "##교차 검증별 정확도: [0.9804 0.9216 1.    ]\n",
            "\n",
            "##평균 검증 정확도: 0.9673333333333334\n"
          ],
          "name": "stdout"
        }
      ]
    },
    {
      "cell_type": "code",
      "metadata": {
        "id": "vdX65U6qqr6x",
        "colab_type": "code",
        "colab": {}
      },
      "source": [
        "#### cross_val_score()"
      ],
      "execution_count": 0,
      "outputs": []
    },
    {
      "cell_type": "code",
      "metadata": {
        "id": "ClqQxjtNmxo_",
        "colab_type": "code",
        "colab": {
          "base_uri": "https://localhost:8080/",
          "height": 52
        },
        "outputId": "1f93952f-c502-4e22-f381-d44d26938ae4"
      },
      "source": [
        "from sklearn.tree import DecisionTreeClassifier\n",
        "from sklearn.model_selection import cross_val_score, cross_validate\n",
        "from sklearn.datasets import load_iris\n",
        "\n",
        "iris_data = load_iris()\n",
        "clf = DecisionTreeClassifier(random_state=156)\n",
        "\n",
        "features = iris_data.data\n",
        "label = iris_data.target\n",
        "\n",
        "# metric: accuracy / cv = 3\n",
        "scores = cross_val_score(clf, features, label, scoring='accuracy', cv=3)\n",
        "print('each CV accuracy: ',np.round(scores, 4))\n",
        "print('mean val accuracy: ', np.round(np.mean(scores),4))\n"
      ],
      "execution_count": 74,
      "outputs": [
        {
          "output_type": "stream",
          "text": [
            "each CV accuracy:  [0.9804 0.9216 0.9792]\n",
            "mean val accuracy:  0.9604\n"
          ],
          "name": "stdout"
        }
      ]
    },
    {
      "cell_type": "code",
      "metadata": {
        "id": "IY-VpJwmrgS6",
        "colab_type": "code",
        "colab": {
          "base_uri": "https://localhost:8080/",
          "height": 34
        },
        "outputId": "b1bf15ac-9302-42e3-8305-ba8b7f6f7514"
      },
      "source": [
        "type(scores)"
      ],
      "execution_count": 75,
      "outputs": [
        {
          "output_type": "execute_result",
          "data": {
            "text/plain": [
              "numpy.ndarray"
            ]
          },
          "metadata": {
            "tags": []
          },
          "execution_count": 75
        }
      ]
    },
    {
      "cell_type": "markdown",
      "metadata": {
        "id": "wFcYgDyR2XpE",
        "colab_type": "text"
      },
      "source": [
        "#### GridSearchCV : cross validation and hyperparameter tuning at the same time"
      ]
    },
    {
      "cell_type": "code",
      "metadata": {
        "id": "ehXpS8E3rlnS",
        "colab_type": "code",
        "colab": {}
      },
      "source": [
        "grid_parameters = {'max_depth': [1,2,3],\n",
        "                   'min_samples_split': [2,3]\n",
        "                  }\n"
      ],
      "execution_count": 0,
      "outputs": []
    },
    {
      "cell_type": "code",
      "metadata": {
        "id": "j18n2LPr3O8I",
        "colab_type": "code",
        "colab": {
          "base_uri": "https://localhost:8080/",
          "height": 280
        },
        "outputId": "002e839b-1cc2-43ac-a0c0-e6f89d36a504"
      },
      "source": [
        "import pandas as pd\n",
        "from sklearn.datasets import load_iris\n",
        "from sklearn.tree import DecisionTreeClassifier\n",
        "from sklearn.model_selection import GridSearchCV\n",
        "\n",
        "# loading data, then split training data / test data\n",
        "iris = load_iris()\n",
        "X_train, X_test, y_train, y_test = train_test_split(iris_data.data, iris_data.target, \n",
        "                                                    test_size=0.25, \n",
        "                                                    random_state=2019)\n",
        "\n",
        "clf = DecisionTreeClassifier()\n",
        "\n",
        "### parameters setting as a dictionary\n",
        "parameters = {'max_depth': [1,2,3],\n",
        "              'min_samples_split': [2,3]\n",
        "             }\n",
        "\n",
        "grid_tree =GridSearchCV(clf, param_grid=parameters, cv=3, refit=True)\n",
        "\n",
        "\n",
        "grid_tree.fit(X_train, y_train)\n",
        "\n",
        "scores_df = pd.DataFrame(grid_tree.cv_results_)\n",
        "scores_df[['params', 'mean_test_score','rank_test_score', 'split0_test_score', 'split1_test_score', 'split2_test_score']]"
      ],
      "execution_count": 77,
      "outputs": [
        {
          "output_type": "stream",
          "text": [
            "/usr/local/lib/python3.6/dist-packages/sklearn/model_selection/_search.py:813: DeprecationWarning: The default of the `iid` parameter will change from True to False in version 0.22 and will be removed in 0.24. This will change numeric results when test-set sizes are unequal.\n",
            "  DeprecationWarning)\n"
          ],
          "name": "stderr"
        },
        {
          "output_type": "execute_result",
          "data": {
            "text/html": [
              "<div>\n",
              "<style scoped>\n",
              "    .dataframe tbody tr th:only-of-type {\n",
              "        vertical-align: middle;\n",
              "    }\n",
              "\n",
              "    .dataframe tbody tr th {\n",
              "        vertical-align: top;\n",
              "    }\n",
              "\n",
              "    .dataframe thead th {\n",
              "        text-align: right;\n",
              "    }\n",
              "</style>\n",
              "<table border=\"1\" class=\"dataframe\">\n",
              "  <thead>\n",
              "    <tr style=\"text-align: right;\">\n",
              "      <th></th>\n",
              "      <th>params</th>\n",
              "      <th>mean_test_score</th>\n",
              "      <th>rank_test_score</th>\n",
              "      <th>split0_test_score</th>\n",
              "      <th>split1_test_score</th>\n",
              "      <th>split2_test_score</th>\n",
              "    </tr>\n",
              "  </thead>\n",
              "  <tbody>\n",
              "    <tr>\n",
              "      <th>0</th>\n",
              "      <td>{'max_depth': 1, 'min_samples_split': 2}</td>\n",
              "      <td>0.687500</td>\n",
              "      <td>5</td>\n",
              "      <td>0.692308</td>\n",
              "      <td>0.675676</td>\n",
              "      <td>0.694444</td>\n",
              "    </tr>\n",
              "    <tr>\n",
              "      <th>1</th>\n",
              "      <td>{'max_depth': 1, 'min_samples_split': 3}</td>\n",
              "      <td>0.687500</td>\n",
              "      <td>5</td>\n",
              "      <td>0.692308</td>\n",
              "      <td>0.675676</td>\n",
              "      <td>0.694444</td>\n",
              "    </tr>\n",
              "    <tr>\n",
              "      <th>2</th>\n",
              "      <td>{'max_depth': 2, 'min_samples_split': 2}</td>\n",
              "      <td>0.928571</td>\n",
              "      <td>1</td>\n",
              "      <td>0.923077</td>\n",
              "      <td>0.972973</td>\n",
              "      <td>0.888889</td>\n",
              "    </tr>\n",
              "    <tr>\n",
              "      <th>3</th>\n",
              "      <td>{'max_depth': 2, 'min_samples_split': 3}</td>\n",
              "      <td>0.928571</td>\n",
              "      <td>1</td>\n",
              "      <td>0.923077</td>\n",
              "      <td>0.972973</td>\n",
              "      <td>0.888889</td>\n",
              "    </tr>\n",
              "    <tr>\n",
              "      <th>4</th>\n",
              "      <td>{'max_depth': 3, 'min_samples_split': 2}</td>\n",
              "      <td>0.910714</td>\n",
              "      <td>3</td>\n",
              "      <td>0.923077</td>\n",
              "      <td>0.918919</td>\n",
              "      <td>0.888889</td>\n",
              "    </tr>\n",
              "    <tr>\n",
              "      <th>5</th>\n",
              "      <td>{'max_depth': 3, 'min_samples_split': 3}</td>\n",
              "      <td>0.910714</td>\n",
              "      <td>3</td>\n",
              "      <td>0.923077</td>\n",
              "      <td>0.918919</td>\n",
              "      <td>0.888889</td>\n",
              "    </tr>\n",
              "  </tbody>\n",
              "</table>\n",
              "</div>"
            ],
            "text/plain": [
              "                                     params  ...  split2_test_score\n",
              "0  {'max_depth': 1, 'min_samples_split': 2}  ...           0.694444\n",
              "1  {'max_depth': 1, 'min_samples_split': 3}  ...           0.694444\n",
              "2  {'max_depth': 2, 'min_samples_split': 2}  ...           0.888889\n",
              "3  {'max_depth': 2, 'min_samples_split': 3}  ...           0.888889\n",
              "4  {'max_depth': 3, 'min_samples_split': 2}  ...           0.888889\n",
              "5  {'max_depth': 3, 'min_samples_split': 3}  ...           0.888889\n",
              "\n",
              "[6 rows x 6 columns]"
            ]
          },
          "metadata": {
            "tags": []
          },
          "execution_count": 77
        }
      ]
    },
    {
      "cell_type": "code",
      "metadata": {
        "id": "FCgdur_N47LR",
        "colab_type": "code",
        "colab": {
          "base_uri": "https://localhost:8080/",
          "height": 52
        },
        "outputId": "f679f89e-b104-438a-8930-f6f1f3a22128"
      },
      "source": [
        "#p117\n",
        "print('GridSearch CV: optimized parameters: ', grid_tree.best_params_)\n",
        "print('GridSearch CV: best accuracy: {0:.4f}'.format(grid_tree.best_score_))\n"
      ],
      "execution_count": 78,
      "outputs": [
        {
          "output_type": "stream",
          "text": [
            "GridSearch CV: optimized parameters:  {'max_depth': 2, 'min_samples_split': 2}\n",
            "GridSearch CV: best accuracy: 0.9286\n"
          ],
          "name": "stdout"
        }
      ]
    },
    {
      "cell_type": "code",
      "metadata": {
        "id": "o1YgxyfL783M",
        "colab_type": "code",
        "colab": {}
      },
      "source": [
        "# trained 'estimator' using GridSearchCV refit \n",
        "estimator = grid_tree.best_estimator_"
      ],
      "execution_count": 0,
      "outputs": []
    },
    {
      "cell_type": "code",
      "metadata": {
        "id": "1nvVYCY2W-KG",
        "colab_type": "code",
        "colab": {
          "base_uri": "https://localhost:8080/",
          "height": 34
        },
        "outputId": "87b3f7c9-0728-46eb-c6be-50a6358cfaef"
      },
      "source": [
        "pred = estimator.predict(X_test)\n",
        "print('Test set accuracy: {0:.4f}'.format(accuracy_score(y_test, pred)))"
      ],
      "execution_count": 80,
      "outputs": [
        {
          "output_type": "stream",
          "text": [
            "Test set accuracy: 0.9737\n"
          ],
          "name": "stdout"
        }
      ]
    },
    {
      "cell_type": "code",
      "metadata": {
        "id": "v_LQ1xeQXH0E",
        "colab_type": "code",
        "colab": {}
      },
      "source": [
        ""
      ],
      "execution_count": 0,
      "outputs": []
    }
  ]
}